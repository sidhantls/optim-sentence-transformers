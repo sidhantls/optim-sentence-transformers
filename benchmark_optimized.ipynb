{
 "cells": [
  {
   "cell_type": "markdown",
   "metadata": {},
   "source": [
    "## Benchmark optimized models\n",
    "* Get runtime of sentence transformers, ST with onnx, and ST with onnx graph optimizations "
   ]
  },
  {
   "cell_type": "code",
   "execution_count": 1,
   "metadata": {
    "scrolled": true
   },
   "outputs": [
    {
     "name": "stdout",
     "output_type": "stream",
     "text": [
      "1.12.1+cpu\n"
     ]
    }
   ],
   "source": [
    "import torch\n",
    "from sentence_transformers import SentenceTransformer, util\n",
    "import os\n",
    "import onnx \n",
    "from transformers import AutoTokenizer\n",
    "from pathlib import Path\n",
    "\n",
    "os.environ[\"CUDA_VISIBLE_DEVICES\"] = \"-1\"\n",
    "print(torch.__version__)"
   ]
  },
  {
   "cell_type": "markdown",
   "metadata": {},
   "source": [
    "## Save ST Model"
   ]
  },
  {
   "cell_type": "code",
   "execution_count": 2,
   "metadata": {},
   "outputs": [],
   "source": [
    "model = SentenceTransformer('sentence-transformers/all-distilroberta-v1')\n",
    "# train if required and save\n",
    "model.save('trained_model')"
   ]
  },
  {
   "cell_type": "markdown",
   "metadata": {},
   "source": [
    "# Latency"
   ]
  },
  {
   "cell_type": "code",
   "execution_count": 3,
   "metadata": {},
   "outputs": [],
   "source": [
    "document = \"The Beatles were a legendary British rock band that rose to international fame during the 1960s and became one of the most influential and successful musical acts in history. Their story is a tale of talent, innovation, cultural revolution, and enduring impact. Formation and Early Years (1957-1962): The Beatles were formed in Liverpool, England, in 1957. The original members included John Lennon, Paul McCartney, George Harrison, and drummer Pete Best (later replaced by Ringo Starr). The band started as a skiffle group, playing a mix of folk, blues, and rock 'n' roll covers. They honed their skills playing in local clubs and gradually gained a following.\"\n",
    "\n",
    "def benchmark(model, document):\n",
    "    output = model.encode([document] * 200, batch_size=8, show_progress_bar=True)\n",
    "    \n",
    "# warmup \n",
    "output = model.encode([document] * 5, show_progress_bar=False)"
   ]
  },
  {
   "cell_type": "markdown",
   "metadata": {},
   "source": [
    "### Latency using original pytorch model"
   ]
  },
  {
   "cell_type": "code",
   "execution_count": 4,
   "metadata": {},
   "outputs": [
    {
     "data": {
      "application/vnd.jupyter.widget-view+json": {
       "model_id": "b46fda2aaed64d169aa9a64d4e87be9f",
       "version_major": 2,
       "version_minor": 0
      },
      "text/plain": [
       "Batches:   0%|          | 0/25 [00:00<?, ?it/s]"
      ]
     },
     "metadata": {},
     "output_type": "display_data"
    },
    {
     "name": "stdout",
     "output_type": "stream",
     "text": [
      "CPU times: total: 2min 44s\n",
      "Wall time: 27.6 s\n"
     ]
    }
   ],
   "source": [
    "%%time\n",
    "benchmark(model, document)"
   ]
  },
  {
   "cell_type": "markdown",
   "metadata": {},
   "source": [
    "## Convert to ONNX "
   ]
  },
  {
   "cell_type": "code",
   "execution_count": null,
   "metadata": {},
   "outputs": [],
   "source": [
    "from optim_sentence_transformers import SentenceTransformerOptim, optimize_model\n",
    "\n",
    "optimize_model(model_name_or_path = 'trained_model',\n",
    "             pooling_model=None,\n",
    "             save_dir='onnx',\n",
    "             optimize_mode='onnx'                                 \n",
    "             )"
   ]
  },
  {
   "cell_type": "code",
   "execution_count": 6,
   "metadata": {},
   "outputs": [
    {
     "name": "stderr",
     "output_type": "stream",
     "text": [
      "No pooling model found. Creating a new one with MEAN pooling.\n",
      "If normalized embeddings are required, set normalize_embeddings=True in model.encode\n"
     ]
    }
   ],
   "source": [
    "optim_model = SentenceTransformerOptim('onnx')\n",
    "# warmup \n",
    "output = model.encode([document] * 5, show_progress_bar=False)"
   ]
  },
  {
   "cell_type": "markdown",
   "metadata": {},
   "source": [
    "### Latency of Onnx"
   ]
  },
  {
   "cell_type": "code",
   "execution_count": 7,
   "metadata": {},
   "outputs": [
    {
     "data": {
      "application/vnd.jupyter.widget-view+json": {
       "model_id": "f4a8d092e67d474d8da237f2d056e6e6",
       "version_major": 2,
       "version_minor": 0
      },
      "text/plain": [
       "Batches:   0%|          | 0/25 [00:00<?, ?it/s]"
      ]
     },
     "metadata": {},
     "output_type": "display_data"
    },
    {
     "name": "stdout",
     "output_type": "stream",
     "text": [
      "CPU times: total: 1min 48s\n",
      "Wall time: 15.2 s\n"
     ]
    }
   ],
   "source": [
    "%%time\n",
    "document = \"The Beatles were a legendary British rock band that rose to international fame during the 1960s and became one of the most influential and successful musical acts in history. Their story is a tale of talent, innovation, cultural revolution, and enduring impact. Formation and Early Years (1957-1962): The Beatles were formed in Liverpool, England, in 1957. The original members included John Lennon, Paul McCartney, George Harrison, and drummer Pete Best (later replaced by Ringo Starr). The band started as a skiffle group, playing a mix of folk, blues, and rock 'n' roll covers. They honed their skills playing in local clubs and gradually gained a following.\"\n",
    "benchmark(optim_model, document)"
   ]
  },
  {
   "cell_type": "markdown",
   "metadata": {},
   "source": [
    "## Graph Optimization"
   ]
  },
  {
   "cell_type": "code",
   "execution_count": null,
   "metadata": {},
   "outputs": [],
   "source": [
    "optimize_model(model_name_or_path = 'trained_model',\n",
    "             pooling_model=None,\n",
    "             save_dir='onnx_graph',\n",
    "             optimize_mode='graph_optim'                                 \n",
    "             )"
   ]
  },
  {
   "cell_type": "code",
   "execution_count": null,
   "metadata": {},
   "outputs": [],
   "source": [
    "optim_model2 = SentenceTransformerOptim('onnx_graph')\n",
    "# warmup \n",
    "output = model.encode([document] * 5, show_progress_bar=False)"
   ]
  },
  {
   "cell_type": "markdown",
   "metadata": {},
   "source": [
    "### Latency of onnx with graph optimization"
   ]
  },
  {
   "cell_type": "code",
   "execution_count": 10,
   "metadata": {},
   "outputs": [
    {
     "data": {
      "application/vnd.jupyter.widget-view+json": {
       "model_id": "1dc472c5ad18474286f93a73c3b03ff6",
       "version_major": 2,
       "version_minor": 0
      },
      "text/plain": [
       "Batches:   0%|          | 0/25 [00:00<?, ?it/s]"
      ]
     },
     "metadata": {},
     "output_type": "display_data"
    },
    {
     "name": "stdout",
     "output_type": "stream",
     "text": [
      "CPU times: total: 1min 38s\n",
      "Wall time: 13 s\n"
     ]
    }
   ],
   "source": [
    "%%time\n",
    "document = \"The Beatles were a legendary British rock band that rose to international fame during the 1960s and became one of the most influential and successful musical acts in history. Their story is a tale of talent, innovation, cultural revolution, and enduring impact. Formation and Early Years (1957-1962): The Beatles were formed in Liverpool, England, in 1957. The original members included John Lennon, Paul McCartney, George Harrison, and drummer Pete Best (later replaced by Ringo Starr). The band started as a skiffle group, playing a mix of folk, blues, and rock 'n' roll covers. They honed their skills playing in local clubs and gradually gained a following.\"\n",
    "benchmark(optim_model2, document)"
   ]
  }
 ],
 "metadata": {
  "kernelspec": {
   "display_name": "Python 3",
   "language": "python",
   "name": "python3"
  },
  "language_info": {
   "codemirror_mode": {
    "name": "ipython",
    "version": 3
   },
   "file_extension": ".py",
   "mimetype": "text/x-python",
   "name": "python",
   "nbconvert_exporter": "python",
   "pygments_lexer": "ipython3",
   "version": "3.7.3"
  }
 },
 "nbformat": 4,
 "nbformat_minor": 5
}

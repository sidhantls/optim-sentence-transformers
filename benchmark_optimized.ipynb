{
 "cells": [
  {
   "cell_type": "markdown",
   "id": "45a530f4",
   "metadata": {},
   "source": [
    "## Benchmark optimized models\n",
    "* Get runtime of sentence transformers, ST with onnx, and ST with onnx graph optimizations "
   ]
  },
  {
   "cell_type": "code",
   "execution_count": 1,
   "id": "961894b5",
   "metadata": {
    "scrolled": true
   },
   "outputs": [
    {
     "name": "stdout",
     "output_type": "stream",
     "text": [
      "1.12.1+cpu\n"
     ]
    }
   ],
   "source": [
    "import torch\n",
    "from sentence_transformers import SentenceTransformer, util\n",
    "import os\n",
    "import onnx \n",
    "from transformers import AutoTokenizer\n",
    "from pathlib import Path\n",
    "\n",
    "os.environ[\"CUDA_VISIBLE_DEVICES\"] = \"-1\"\n",
    "\n",
    "print(torch.__version__)\n",
    "\n",
    "%load_ext autoreload\n",
    "%autoreload 2"
   ]
  },
  {
   "cell_type": "markdown",
   "id": "9e4e0c13",
   "metadata": {},
   "source": [
    "## Save ST Model"
   ]
  },
  {
   "cell_type": "code",
   "execution_count": 2,
   "id": "d674b809",
   "metadata": {},
   "outputs": [],
   "source": [
    "model = SentenceTransformer('sentence-transformers/all-distilroberta-v1')\n",
    "# train if required\n",
    "\n",
    "# save\n",
    "model.save('trained_model')"
   ]
  },
  {
   "cell_type": "markdown",
   "id": "1c3dfa18",
   "metadata": {},
   "source": [
    "# Latency"
   ]
  },
  {
   "cell_type": "code",
   "execution_count": 3,
   "id": "e981574c",
   "metadata": {},
   "outputs": [],
   "source": [
    "document = \"The Beatles were a legendary British rock band that rose to international fame during the 1960s and became one of the most influential and successful musical acts in history. Their story is a tale of talent, innovation, cultural revolution, and enduring impact. Formation and Early Years (1957-1962): The Beatles were formed in Liverpool, England, in 1957. The original members included John Lennon, Paul McCartney, George Harrison, and drummer Pete Best (later replaced by Ringo Starr). The band started as a skiffle group, playing a mix of folk, blues, and rock 'n' roll covers. They honed their skills playing in local clubs and gradually gained a following.\"\n",
    "\n",
    "# warmup \n",
    "output = model.encode([document] * 5, show_progress_bar=False)\n",
    "\n",
    "def benchmark(model, document):\n",
    "    output = model.encode([document] * 200, batch_size=8, show_progress_bar=True)\n"
   ]
  },
  {
   "cell_type": "markdown",
   "id": "e9dfac0e",
   "metadata": {},
   "source": [
    "### Latency using original pytorch model"
   ]
  },
  {
   "cell_type": "code",
   "execution_count": 4,
   "id": "7d700dce",
   "metadata": {},
   "outputs": [
    {
     "data": {
      "application/vnd.jupyter.widget-view+json": {
       "model_id": "b46fda2aaed64d169aa9a64d4e87be9f",
       "version_major": 2,
       "version_minor": 0
      },
      "text/plain": [
       "Batches:   0%|          | 0/25 [00:00<?, ?it/s]"
      ]
     },
     "metadata": {},
     "output_type": "display_data"
    },
    {
     "name": "stdout",
     "output_type": "stream",
     "text": [
      "CPU times: total: 2min 44s\n",
      "Wall time: 27.6 s\n"
     ]
    }
   ],
   "source": [
    "%%time\n",
    "benchmark(model, document)"
   ]
  },
  {
   "cell_type": "markdown",
   "id": "984c0cca",
   "metadata": {},
   "source": [
    "## Convert to ONNX "
   ]
  },
  {
   "cell_type": "code",
   "execution_count": 5,
   "id": "a4d4dec2",
   "metadata": {},
   "outputs": [
    {
     "name": "stderr",
     "output_type": "stream",
     "text": [
      "The argument `from_transformers` is deprecated, and will be removed in optimum 2.0.  Use `export` instead\n",
      "Framework not specified. Using pt to export to ONNX.\n",
      "Using framework PyTorch: 1.12.1+cpu\n",
      "Overriding 1 configuration item(s)\n",
      "\t- use_cache -> False\n"
     ]
    },
    {
     "name": "stdout",
     "output_type": "stream",
     "text": [
      "Found Pooling config. If normalized embeddings required, use normalize_embeddings in model.encode\n",
      "Converting model to onnx..\n",
      "Optimized model using onnx saved at onnx\n"
     ]
    }
   ],
   "source": [
    "from optim_sentence_transformers import SentenceTransformerOptim, optimize_model\n",
    "\n",
    "optimize_model(model_name_or_path = 'trained_model',\n",
    "             pooling_model=None,\n",
    "             save_dir='onnx',\n",
    "             optimize_mode='onnx'                                 \n",
    "             )"
   ]
  },
  {
   "cell_type": "code",
   "execution_count": 6,
   "id": "c04676f2",
   "metadata": {},
   "outputs": [
    {
     "name": "stderr",
     "output_type": "stream",
     "text": [
      "No pooling model found. Creating a new one with MEAN pooling.\n",
      "If normalized embeddings are required, set normalize_embeddings=True in model.encode\n"
     ]
    }
   ],
   "source": [
    "optim_model = SentenceTransformerOptim('onnx')\n",
    "\n",
    "# warmup \n",
    "output = model.encode([document] * 5, show_progress_bar=False)"
   ]
  },
  {
   "cell_type": "markdown",
   "id": "1cd7396e",
   "metadata": {},
   "source": [
    "### Latency of Onnx"
   ]
  },
  {
   "cell_type": "code",
   "execution_count": 7,
   "id": "4bc94b77-3775-4007-b745-8691535bded2",
   "metadata": {},
   "outputs": [
    {
     "data": {
      "application/vnd.jupyter.widget-view+json": {
       "model_id": "f4a8d092e67d474d8da237f2d056e6e6",
       "version_major": 2,
       "version_minor": 0
      },
      "text/plain": [
       "Batches:   0%|          | 0/25 [00:00<?, ?it/s]"
      ]
     },
     "metadata": {},
     "output_type": "display_data"
    },
    {
     "name": "stdout",
     "output_type": "stream",
     "text": [
      "CPU times: total: 1min 48s\n",
      "Wall time: 15.2 s\n"
     ]
    }
   ],
   "source": [
    "%%time\n",
    "document = \"The Beatles were a legendary British rock band that rose to international fame during the 1960s and became one of the most influential and successful musical acts in history. Their story is a tale of talent, innovation, cultural revolution, and enduring impact. Formation and Early Years (1957-1962): The Beatles were formed in Liverpool, England, in 1957. The original members included John Lennon, Paul McCartney, George Harrison, and drummer Pete Best (later replaced by Ringo Starr). The band started as a skiffle group, playing a mix of folk, blues, and rock 'n' roll covers. They honed their skills playing in local clubs and gradually gained a following.\"\n",
    "benchmark(optim_model, document)\n"
   ]
  },
  {
   "cell_type": "markdown",
   "id": "c715d87e",
   "metadata": {},
   "source": [
    "## Graph Optimization"
   ]
  },
  {
   "cell_type": "code",
   "execution_count": 8,
   "id": "e8af2189",
   "metadata": {},
   "outputs": [
    {
     "name": "stderr",
     "output_type": "stream",
     "text": [
      "The argument `from_transformers` is deprecated, and will be removed in optimum 2.0.  Use `export` instead\n",
      "Framework not specified. Using pt to export to ONNX.\n",
      "Using framework PyTorch: 1.12.1+cpu\n",
      "Overriding 1 configuration item(s)\n",
      "\t- use_cache -> False\n"
     ]
    },
    {
     "name": "stdout",
     "output_type": "stream",
     "text": [
      "Found Pooling config. If normalized embeddings required, use normalize_embeddings in model.encode\n",
      "Optimizing onnx model using graph_optim..\n"
     ]
    },
    {
     "name": "stderr",
     "output_type": "stream",
     "text": [
      "c:\\Users\\Sidhant\\AppData\\Local\\Programs\\Miniconda3\\envs\\quant3\\lib\\site-packages\\optimum\\onnxruntime\\configuration.py:765: FutureWarning: disable_embed_layer_norm will be deprecated soon, use disable_embed_layer_norm_fusion instead, disable_embed_layer_norm_fusion is set to True.\n",
      "  warnings.warn(\n",
      "Optimizing model...\n",
      "Configuration saved in onnx_graph\\ort_config.json\n",
      "Optimized model saved at: onnx_graph (external data format: False; saved all tensor to one file: True)\n"
     ]
    },
    {
     "name": "stdout",
     "output_type": "stream",
     "text": [
      "Optimized model using graph_optim saved at onnx_graph\n"
     ]
    },
    {
     "name": "stderr",
     "output_type": "stream",
     "text": [
      "No pooling model found. Creating a new one with MEAN pooling.\n",
      "If normalized embeddings are required, set normalize_embeddings=True in model.encode\n"
     ]
    }
   ],
   "source": [
    "optimize_model(model_name_or_path = 'trained_model',\n",
    "             pooling_model=None,\n",
    "             save_dir='onnx_graph',\n",
    "             optimize_mode='graph_optim'                                 \n",
    "             )\n"
   ]
  },
  {
   "cell_type": "code",
   "execution_count": 9,
   "id": "3b7c25a5",
   "metadata": {},
   "outputs": [
    {
     "name": "stderr",
     "output_type": "stream",
     "text": [
      "No pooling model found. Creating a new one with MEAN pooling.\n",
      "If normalized embeddings are required, set normalize_embeddings=True in model.encode\n"
     ]
    }
   ],
   "source": [
    "optim_model2 = SentenceTransformerOptim('onnx_graph')\n",
    "\n",
    "# warmup \n",
    "output = model.encode([document] * 5, show_progress_bar=False)"
   ]
  },
  {
   "cell_type": "markdown",
   "id": "6ba3a36c",
   "metadata": {},
   "source": [
    "### Latency of onnx with graph optimization"
   ]
  },
  {
   "cell_type": "code",
   "execution_count": 10,
   "id": "0631d114",
   "metadata": {},
   "outputs": [
    {
     "data": {
      "application/vnd.jupyter.widget-view+json": {
       "model_id": "1dc472c5ad18474286f93a73c3b03ff6",
       "version_major": 2,
       "version_minor": 0
      },
      "text/plain": [
       "Batches:   0%|          | 0/25 [00:00<?, ?it/s]"
      ]
     },
     "metadata": {},
     "output_type": "display_data"
    },
    {
     "name": "stdout",
     "output_type": "stream",
     "text": [
      "CPU times: total: 1min 38s\n",
      "Wall time: 13 s\n"
     ]
    }
   ],
   "source": [
    "%%time\n",
    "document = \"The Beatles were a legendary British rock band that rose to international fame during the 1960s and became one of the most influential and successful musical acts in history. Their story is a tale of talent, innovation, cultural revolution, and enduring impact. Formation and Early Years (1957-1962): The Beatles were formed in Liverpool, England, in 1957. The original members included John Lennon, Paul McCartney, George Harrison, and drummer Pete Best (later replaced by Ringo Starr). The band started as a skiffle group, playing a mix of folk, blues, and rock 'n' roll covers. They honed their skills playing in local clubs and gradually gained a following.\"\n",
    "benchmark(optim_model2, document)"
   ]
  },
  {
   "cell_type": "code",
   "execution_count": null,
   "id": "b8ad7224",
   "metadata": {},
   "outputs": [],
   "source": []
  }
 ],
 "metadata": {
  "kernelspec": {
   "display_name": "Python 3 (ipykernel)",
   "language": "python",
   "name": "python3"
  },
  "language_info": {
   "codemirror_mode": {
    "name": "ipython",
    "version": 3
   },
   "file_extension": ".py",
   "mimetype": "text/x-python",
   "name": "python",
   "nbconvert_exporter": "python",
   "pygments_lexer": "ipython3",
   "version": "3.8.1"
  }
 },
 "nbformat": 4,
 "nbformat_minor": 5
}
